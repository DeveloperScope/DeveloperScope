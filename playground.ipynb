{
 "cells": [
  {
   "cell_type": "code",
   "execution_count": 1,
   "metadata": {},
   "outputs": [],
   "source": [
    "from pydriller import Repository\n",
    "from collections import defaultdict\n",
    "\n",
    "from pathlib import Path\n",
    "\n",
    "TARGET_REPO = \"devQ_testData_PythonProject\"\n",
    "# put the target repo next to the current folder\n",
    "\n",
    "# Get the path to the current project (assumes script is run from the project directory)\n",
    "current_repo_path = Path().parent.resolve()\n",
    "# print(current_repo_path)\n",
    "\n",
    "# Go up one level, then into the sibling directory\n",
    "repo_path = current_repo_path.parent / TARGET_REPO\n",
    "\n",
    "author_stats = defaultdict(lambda: {\"commits\": 0, \"insertions\": 0, \"deletions\": 0})\n",
    "author_mapping = defaultdict(lambda: set())\n",
    "\n",
    "repo = Repository(str(repo_path))"
   ]
  },
  {
   "cell_type": "code",
   "execution_count": 217,
   "metadata": {},
   "outputs": [],
   "source": [
    "def commits():\n",
    "    for commit in repo.traverse_commits():\n",
    "        if not commit.msg.startswith('Merge'):\n",
    "            continue\n",
    "        assert len(commit.parents) == 2\n",
    "        \n",
    "        yield commit\n",
    "\n",
    "a = commits()"
   ]
  },
  {
   "cell_type": "code",
   "execution_count": 226,
   "metadata": {},
   "outputs": [
    {
     "data": {
      "text/plain": [
       "(\"Merge remote-tracking branch 'origin/master'\", 1, [], 43)"
      ]
     },
     "execution_count": 226,
     "metadata": {},
     "output_type": "execute_result"
    }
   ],
   "source": [
    "commit = next(a)\n",
    "commit.msg, commit.files, commit.modified_files, commit.lines"
   ]
  },
  {
   "cell_type": "code",
   "execution_count": 227,
   "metadata": {},
   "outputs": [
    {
     "data": {
      "text/plain": [
       "'2d2d8c722044eb830694ced17e55f2bcc55445bd'"
      ]
     },
     "execution_count": 227,
     "metadata": {},
     "output_type": "execute_result"
    }
   ],
   "source": [
    "commit.hash"
   ]
  },
  {
   "cell_type": "code",
   "execution_count": 221,
   "metadata": {},
   "outputs": [
    {
     "data": {
      "text/plain": [
       "'66d418305f8a7b9fa70b2bd880b1d6c26b49e9ff'"
      ]
     },
     "execution_count": 221,
     "metadata": {},
     "output_type": "execute_result"
    }
   ],
   "source": []
  },
  {
   "cell_type": "code",
   "execution_count": 34,
   "metadata": {},
   "outputs": [
    {
     "data": {
      "text/plain": [
       "{'develop'}"
      ]
     },
     "execution_count": 34,
     "metadata": {},
     "output_type": "execute_result"
    }
   ],
   "source": [
    "commit.branches"
   ]
  },
  {
   "cell_type": "code",
   "execution_count": 33,
   "metadata": {},
   "outputs": [
    {
     "name": "stdout",
     "output_type": "stream",
     "text": [
      "requirements.txt\n",
      "@@ -36,4 +36,3 @@ typing-extensions==3.7.4.3\n",
      " urllib3==1.26.7\n",
      " xlrd==2.0.1\n",
      " zipp==3.4.1\n",
      "-celery==5.2.7\n",
      "\\ No newline at end of file\n",
      "\n"
     ]
    }
   ],
   "source": [
    "for mod in commit.modified_files:\n",
    "    print(mod.filename)\n",
    "    print(mod.diff)"
   ]
  },
  {
   "cell_type": "code",
   "execution_count": null,
   "metadata": {},
   "outputs": [],
   "source": []
  }
 ],
 "metadata": {
  "kernelspec": {
   "display_name": ".venv",
   "language": "python",
   "name": "python3"
  },
  "language_info": {
   "codemirror_mode": {
    "name": "ipython",
    "version": 3
   },
   "file_extension": ".py",
   "mimetype": "text/x-python",
   "name": "python",
   "nbconvert_exporter": "python",
   "pygments_lexer": "ipython3",
   "version": "3.12.10"
  }
 },
 "nbformat": 4,
 "nbformat_minor": 2
}
