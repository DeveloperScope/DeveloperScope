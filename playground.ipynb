{
 "cells": [
  {
   "cell_type": "code",
   "execution_count": 1,
   "metadata": {},
   "outputs": [],
   "source": [
    "from pathlib import Path\n",
    "\n",
    "current_repo_path = Path().parent.resolve()"
   ]
  },
  {
   "cell_type": "code",
   "execution_count": 2,
   "metadata": {},
   "outputs": [],
   "source": [
    "TARGET_REPO = \"devQ_testData_PythonProject\"\n",
    "# TARGET_REPO = 'toy-python-project'\n",
    "repo_path = current_repo_path.parent / TARGET_REPO"
   ]
  },
  {
   "cell_type": "code",
   "execution_count": 3,
   "metadata": {},
   "outputs": [
    {
     "data": {
      "text/plain": [
       "defaultdict(set,\n",
       "            {'iatskovskiivv': {('IatskovskiiVV@alfastrah.ru',\n",
       "               'Яцковский Владимир'),\n",
       "              ('iatskovskiivv@alfastrah.ru', 'Яцковский Владимир Валерьевич')},\n",
       "             'isaninav': {('isaninav@alfastrah.ru', 'Isanin Anton'),\n",
       "              ('isaninav@alfastrah.ru', 'antisanin'),\n",
       "              ('isaninav@alfastrah.ru', 'Исанин Антон Викторович')},\n",
       "             'panfilovva': {('PanfilovVA@alfastrah.ru', 'PanfilovVA'),\n",
       "              ('panfilovva@alfastrah.ru', 'Панфилов Вадим Алексеевич')},\n",
       "             'vasilevar': {('vasilevar@alfastrah.ru',\n",
       "               'Васильев Артём Романович')},\n",
       "             'avasilev1992': {('avasilev1992@gmail.com', 'Artem Vasilev')},\n",
       "             'vasilevartem': {('53534684+VasilevArtem@users.noreply.github.com',\n",
       "               'Artem Vasilev')}})"
      ]
     },
     "execution_count": 3,
     "metadata": {},
     "output_type": "execute_result"
    }
   ],
   "source": [
    "from developerscope.analyzer import get_merge_commits_map\n",
    "\n",
    "merge_commits_map, author_mapping = get_merge_commits_map(repo_path)\n",
    "author_mapping"
   ]
  },
  {
   "cell_type": "code",
   "execution_count": 4,
   "metadata": {},
   "outputs": [],
   "source": [
    "import git\n",
    "git_repo = git.Repo(str(repo_path))\n",
    "\n"
   ]
  },
  {
   "cell_type": "code",
   "execution_count": 5,
   "metadata": {},
   "outputs": [
    {
     "data": {
      "text/plain": [
       "\"Merge branch 'feature/501228' into 'master'\\n\\nResolve 501228\\n\\nSee merge request global-infrastructure/aclserver/server!194\""
      ]
     },
     "execution_count": 5,
     "metadata": {},
     "output_type": "execute_result"
    }
   ],
   "source": [
    "# for author, commits in merge_commits_map.items():\n",
    "#     for commit in commits:\n",
    "#         merge_commit = git_repo.commit(commit)\n",
    "#         # print(merge_commit.message)\n",
    "        \n",
    "#         # if input(merge_commit.message):\n",
    "#         pass\n",
    "\n",
    "\n",
    "merge_commit = git_repo.commit('b796460593a909c55ab1ca48a2a8ca45080d8481')\n",
    "merge_commit.message"
   ]
  },
  {
   "cell_type": "code",
   "execution_count": 6,
   "metadata": {},
   "outputs": [],
   "source": [
    "from developerscope.analyzer import extract_username\n"
   ]
  },
  {
   "cell_type": "code",
   "execution_count": 7,
   "metadata": {},
   "outputs": [
    {
     "data": {
      "text/plain": [
       "'b796460593a909c55ab1ca48a2a8ca45080d8481'"
      ]
     },
     "execution_count": 7,
     "metadata": {},
     "output_type": "execute_result"
    }
   ],
   "source": [
    "merge_commit.hexsha"
   ]
  },
  {
   "cell_type": "code",
   "execution_count": 8,
   "metadata": {},
   "outputs": [
    {
     "name": "stderr",
     "output_type": "stream",
     "text": [
      "<unknown>:475: SyntaxWarning: invalid escape sequence '\\d'\n",
      "<unknown>:2029: SyntaxWarning: invalid escape sequence '\\w'\n",
      "<unknown>:2272: SyntaxWarning: invalid escape sequence '\\d'\n",
      "<unknown>:475: SyntaxWarning: invalid escape sequence '\\d'\n",
      "<unknown>:2029: SyntaxWarning: invalid escape sequence '\\w'\n",
      "<unknown>:2272: SyntaxWarning: invalid escape sequence '\\d'\n"
     ]
    },
    {
     "ename": "BadRequestError",
     "evalue": "Error code: 400 - {'error': {'message': \"Missing required parameter: 'tools[0].function'.\", 'type': 'invalid_request_error', 'param': 'tools[0].function', 'code': 'missing_required_parameter'}}",
     "output_type": "error",
     "traceback": [
      "\u001b[31m---------------------------------------------------------------------------\u001b[39m",
      "\u001b[31mBadRequestError\u001b[39m                           Traceback (most recent call last)",
      "\u001b[36mCell\u001b[39m\u001b[36m \u001b[39m\u001b[32mIn[8]\u001b[39m\u001b[32m, line 4\u001b[39m\n\u001b[32m      1\u001b[39m \u001b[38;5;28;01mfrom\u001b[39;00m\u001b[38;5;250m \u001b[39m\u001b[34;01mmain\u001b[39;00m\u001b[38;5;250m \u001b[39m\u001b[38;5;28;01mimport\u001b[39;00m analyze_commit\n\u001b[32m----> \u001b[39m\u001b[32m4\u001b[39m answer = \u001b[43manalyze_commit\u001b[49m\u001b[43m(\u001b[49m\n\u001b[32m      5\u001b[39m \u001b[43m    \u001b[49m\u001b[43mauthor\u001b[49m\u001b[43m=\u001b[49m\u001b[43mextract_username\u001b[49m\u001b[43m(\u001b[49m\u001b[43mmerge_commit\u001b[49m\u001b[43m.\u001b[49m\u001b[43mauthor\u001b[49m\u001b[43m.\u001b[49m\u001b[43memail\u001b[49m\u001b[43m)\u001b[49m\u001b[43m,\u001b[49m\n\u001b[32m      6\u001b[39m \u001b[43m    \u001b[49m\u001b[43mcommit_hash\u001b[49m\u001b[43m=\u001b[49m\u001b[43mmerge_commit\u001b[49m\u001b[43m.\u001b[49m\u001b[43mhexsha\u001b[49m\u001b[43m)\u001b[49m\n\u001b[32m      7\u001b[39m answer \n",
      "\u001b[36mFile \u001b[39m\u001b[32m/mnt/c/Users/iliya/Repositories/network-effect-hacks/DeveloperScope/main.py:277\u001b[39m, in \u001b[36manalyze_commit\u001b[39m\u001b[34m(author, commit_hash)\u001b[39m\n\u001b[32m    271\u001b[39m messages: \u001b[38;5;28mlist\u001b[39m[\u001b[38;5;28mdict\u001b[39m[\u001b[38;5;28mstr\u001b[39m, Any]] = [\n\u001b[32m    272\u001b[39m     {\u001b[33m\"\u001b[39m\u001b[33mrole\u001b[39m\u001b[33m\"\u001b[39m: \u001b[33m\"\u001b[39m\u001b[33msystem\u001b[39m\u001b[33m\"\u001b[39m, \u001b[33m\"\u001b[39m\u001b[33mcontent\u001b[39m\u001b[33m\"\u001b[39m: SYSTEM_PROMPT},\n\u001b[32m    273\u001b[39m     {\u001b[33m\"\u001b[39m\u001b[33mrole\u001b[39m\u001b[33m\"\u001b[39m: \u001b[33m\"\u001b[39m\u001b[33muser\u001b[39m\u001b[33m\"\u001b[39m, \u001b[33m\"\u001b[39m\u001b[33mcontent\u001b[39m\u001b[33m\"\u001b[39m: user_message, \u001b[33m\"\u001b[39m\u001b[33mcommit_hash\u001b[39m\u001b[33m\"\u001b[39m: commit_hash},  \u001b[38;5;66;03m# custom key to retrieve later\u001b[39;00m\n\u001b[32m    274\u001b[39m ]\n\u001b[32m    276\u001b[39m \u001b[38;5;66;03m# 1st round – base analysis\u001b[39;00m\n\u001b[32m--> \u001b[39m\u001b[32m277\u001b[39m raw_json = \u001b[43m_run_chat\u001b[49m\u001b[43m(\u001b[49m\u001b[43mmessages\u001b[49m\u001b[43m,\u001b[49m\u001b[43m \u001b[49m\u001b[43mtools\u001b[49m\u001b[43m,\u001b[49m\u001b[43m \u001b[49m\u001b[43mschema\u001b[49m\u001b[43m)\u001b[49m\n\u001b[32m    278\u001b[39m analysis: MergeRequestAnalysis = json.loads(raw_json)\n\u001b[32m    279\u001b[39m analysis[\u001b[33m\"\u001b[39m\u001b[33mcommitHash\u001b[39m\u001b[33m\"\u001b[39m] = commit_hash  \u001b[38;5;66;03m# attach hash for traceability\u001b[39;00m\n",
      "\u001b[36mFile \u001b[39m\u001b[32m/mnt/c/Users/iliya/Repositories/network-effect-hacks/DeveloperScope/main.py:192\u001b[39m, in \u001b[36m_run_chat\u001b[39m\u001b[34m(messages, tools, schema, max_rounds)\u001b[39m\n\u001b[32m    190\u001b[39m \u001b[38;5;250m\u001b[39m\u001b[33;03m\"\"\"Generic helper that loops model→function calls→model until we get JSON.\"\"\"\u001b[39;00m\n\u001b[32m    191\u001b[39m \u001b[38;5;28;01mfor\u001b[39;00m _ \u001b[38;5;129;01min\u001b[39;00m \u001b[38;5;28mrange\u001b[39m(max_rounds):\n\u001b[32m--> \u001b[39m\u001b[32m192\u001b[39m     response = \u001b[43mclient\u001b[49m\u001b[43m.\u001b[49m\u001b[43mchat\u001b[49m\u001b[43m.\u001b[49m\u001b[43mcompletions\u001b[49m\u001b[43m.\u001b[49m\u001b[43mcreate\u001b[49m\u001b[43m(\u001b[49m\n\u001b[32m    193\u001b[39m \u001b[43m        \u001b[49m\u001b[43mmodel\u001b[49m\u001b[43m=\u001b[49m\u001b[43mMODEL_NAME\u001b[49m\u001b[43m,\u001b[49m\n\u001b[32m    194\u001b[39m \u001b[43m        \u001b[49m\u001b[43mmessages\u001b[49m\u001b[43m=\u001b[49m\u001b[43mmessages\u001b[49m\u001b[43m,\u001b[49m\n\u001b[32m    195\u001b[39m \u001b[43m        \u001b[49m\u001b[43mtools\u001b[49m\u001b[43m=\u001b[49m\u001b[43mtools\u001b[49m\u001b[43m,\u001b[49m\n\u001b[32m    196\u001b[39m \u001b[43m        \u001b[49m\u001b[43mtool_choice\u001b[49m\u001b[43m=\u001b[49m\u001b[33;43m\"\u001b[39;49m\u001b[33;43mauto\u001b[39;49m\u001b[33;43m\"\u001b[39;49m\u001b[43m,\u001b[49m\n\u001b[32m    197\u001b[39m \u001b[43m        \u001b[49m\u001b[43mresponse_format\u001b[49m\u001b[43m=\u001b[49m\u001b[43m{\u001b[49m\u001b[33;43m\"\u001b[39;49m\u001b[33;43mtype\u001b[39;49m\u001b[33;43m\"\u001b[39;49m\u001b[43m:\u001b[49m\u001b[43m \u001b[49m\u001b[33;43m\"\u001b[39;49m\u001b[33;43mjson_schema\u001b[39;49m\u001b[33;43m\"\u001b[39;49m\u001b[43m,\u001b[49m\u001b[43m \u001b[49m\u001b[33;43m\"\u001b[39;49m\u001b[33;43mschema\u001b[39;49m\u001b[33;43m\"\u001b[39;49m\u001b[43m:\u001b[49m\u001b[43m \u001b[49m\u001b[43mschema\u001b[49m\u001b[43m}\u001b[49m\u001b[43m,\u001b[49m\n\u001b[32m    198\u001b[39m \u001b[43m        \u001b[49m\u001b[43mtemperature\u001b[49m\u001b[43m=\u001b[49m\u001b[32;43m0.2\u001b[39;49m\u001b[43m,\u001b[49m\n\u001b[32m    199\u001b[39m \u001b[43m    \u001b[49m\u001b[43m)\u001b[49m\n\u001b[32m    201\u001b[39m     choice = response.choices[\u001b[32m0\u001b[39m]\n\u001b[32m    202\u001b[39m     \u001b[38;5;28;01mif\u001b[39;00m choice.finish_reason != \u001b[33m\"\u001b[39m\u001b[33mtool_calls\u001b[39m\u001b[33m\"\u001b[39m:\n\u001b[32m    203\u001b[39m         \u001b[38;5;66;03m# We either got the final JSON or regular text – return raw content\u001b[39;00m\n",
      "\u001b[36mFile \u001b[39m\u001b[32m/mnt/c/Users/iliya/Repositories/network-effect-hacks/DeveloperScope/.venv/lib/python3.12/site-packages/openai/_utils/_utils.py:279\u001b[39m, in \u001b[36mrequired_args.<locals>.inner.<locals>.wrapper\u001b[39m\u001b[34m(*args, **kwargs)\u001b[39m\n\u001b[32m    277\u001b[39m             msg = \u001b[33mf\u001b[39m\u001b[33m\"\u001b[39m\u001b[33mMissing required argument: \u001b[39m\u001b[38;5;132;01m{\u001b[39;00mquote(missing[\u001b[32m0\u001b[39m])\u001b[38;5;132;01m}\u001b[39;00m\u001b[33m\"\u001b[39m\n\u001b[32m    278\u001b[39m     \u001b[38;5;28;01mraise\u001b[39;00m \u001b[38;5;167;01mTypeError\u001b[39;00m(msg)\n\u001b[32m--> \u001b[39m\u001b[32m279\u001b[39m \u001b[38;5;28;01mreturn\u001b[39;00m \u001b[43mfunc\u001b[49m\u001b[43m(\u001b[49m\u001b[43m*\u001b[49m\u001b[43margs\u001b[49m\u001b[43m,\u001b[49m\u001b[43m \u001b[49m\u001b[43m*\u001b[49m\u001b[43m*\u001b[49m\u001b[43mkwargs\u001b[49m\u001b[43m)\u001b[49m\n",
      "\u001b[36mFile \u001b[39m\u001b[32m/mnt/c/Users/iliya/Repositories/network-effect-hacks/DeveloperScope/.venv/lib/python3.12/site-packages/openai/resources/chat/completions/completions.py:929\u001b[39m, in \u001b[36mCompletions.create\u001b[39m\u001b[34m(self, messages, model, audio, frequency_penalty, function_call, functions, logit_bias, logprobs, max_completion_tokens, max_tokens, metadata, modalities, n, parallel_tool_calls, prediction, presence_penalty, reasoning_effort, response_format, seed, service_tier, stop, store, stream, stream_options, temperature, tool_choice, tools, top_logprobs, top_p, user, web_search_options, extra_headers, extra_query, extra_body, timeout)\u001b[39m\n\u001b[32m    886\u001b[39m \u001b[38;5;129m@required_args\u001b[39m([\u001b[33m\"\u001b[39m\u001b[33mmessages\u001b[39m\u001b[33m\"\u001b[39m, \u001b[33m\"\u001b[39m\u001b[33mmodel\u001b[39m\u001b[33m\"\u001b[39m], [\u001b[33m\"\u001b[39m\u001b[33mmessages\u001b[39m\u001b[33m\"\u001b[39m, \u001b[33m\"\u001b[39m\u001b[33mmodel\u001b[39m\u001b[33m\"\u001b[39m, \u001b[33m\"\u001b[39m\u001b[33mstream\u001b[39m\u001b[33m\"\u001b[39m])\n\u001b[32m    887\u001b[39m \u001b[38;5;28;01mdef\u001b[39;00m\u001b[38;5;250m \u001b[39m\u001b[34mcreate\u001b[39m(\n\u001b[32m    888\u001b[39m     \u001b[38;5;28mself\u001b[39m,\n\u001b[32m   (...)\u001b[39m\u001b[32m    926\u001b[39m     timeout: \u001b[38;5;28mfloat\u001b[39m | httpx.Timeout | \u001b[38;5;28;01mNone\u001b[39;00m | NotGiven = NOT_GIVEN,\n\u001b[32m    927\u001b[39m ) -> ChatCompletion | Stream[ChatCompletionChunk]:\n\u001b[32m    928\u001b[39m     validate_response_format(response_format)\n\u001b[32m--> \u001b[39m\u001b[32m929\u001b[39m     \u001b[38;5;28;01mreturn\u001b[39;00m \u001b[38;5;28;43mself\u001b[39;49m\u001b[43m.\u001b[49m\u001b[43m_post\u001b[49m\u001b[43m(\u001b[49m\n\u001b[32m    930\u001b[39m \u001b[43m        \u001b[49m\u001b[33;43m\"\u001b[39;49m\u001b[33;43m/chat/completions\u001b[39;49m\u001b[33;43m\"\u001b[39;49m\u001b[43m,\u001b[49m\n\u001b[32m    931\u001b[39m \u001b[43m        \u001b[49m\u001b[43mbody\u001b[49m\u001b[43m=\u001b[49m\u001b[43mmaybe_transform\u001b[49m\u001b[43m(\u001b[49m\n\u001b[32m    932\u001b[39m \u001b[43m            \u001b[49m\u001b[43m{\u001b[49m\n\u001b[32m    933\u001b[39m \u001b[43m                \u001b[49m\u001b[33;43m\"\u001b[39;49m\u001b[33;43mmessages\u001b[39;49m\u001b[33;43m\"\u001b[39;49m\u001b[43m:\u001b[49m\u001b[43m \u001b[49m\u001b[43mmessages\u001b[49m\u001b[43m,\u001b[49m\n\u001b[32m    934\u001b[39m \u001b[43m                \u001b[49m\u001b[33;43m\"\u001b[39;49m\u001b[33;43mmodel\u001b[39;49m\u001b[33;43m\"\u001b[39;49m\u001b[43m:\u001b[49m\u001b[43m \u001b[49m\u001b[43mmodel\u001b[49m\u001b[43m,\u001b[49m\n\u001b[32m    935\u001b[39m \u001b[43m                \u001b[49m\u001b[33;43m\"\u001b[39;49m\u001b[33;43maudio\u001b[39;49m\u001b[33;43m\"\u001b[39;49m\u001b[43m:\u001b[49m\u001b[43m \u001b[49m\u001b[43maudio\u001b[49m\u001b[43m,\u001b[49m\n\u001b[32m    936\u001b[39m \u001b[43m                \u001b[49m\u001b[33;43m\"\u001b[39;49m\u001b[33;43mfrequency_penalty\u001b[39;49m\u001b[33;43m\"\u001b[39;49m\u001b[43m:\u001b[49m\u001b[43m \u001b[49m\u001b[43mfrequency_penalty\u001b[49m\u001b[43m,\u001b[49m\n\u001b[32m    937\u001b[39m \u001b[43m                \u001b[49m\u001b[33;43m\"\u001b[39;49m\u001b[33;43mfunction_call\u001b[39;49m\u001b[33;43m\"\u001b[39;49m\u001b[43m:\u001b[49m\u001b[43m \u001b[49m\u001b[43mfunction_call\u001b[49m\u001b[43m,\u001b[49m\n\u001b[32m    938\u001b[39m \u001b[43m                \u001b[49m\u001b[33;43m\"\u001b[39;49m\u001b[33;43mfunctions\u001b[39;49m\u001b[33;43m\"\u001b[39;49m\u001b[43m:\u001b[49m\u001b[43m \u001b[49m\u001b[43mfunctions\u001b[49m\u001b[43m,\u001b[49m\n\u001b[32m    939\u001b[39m \u001b[43m                \u001b[49m\u001b[33;43m\"\u001b[39;49m\u001b[33;43mlogit_bias\u001b[39;49m\u001b[33;43m\"\u001b[39;49m\u001b[43m:\u001b[49m\u001b[43m \u001b[49m\u001b[43mlogit_bias\u001b[49m\u001b[43m,\u001b[49m\n\u001b[32m    940\u001b[39m \u001b[43m                \u001b[49m\u001b[33;43m\"\u001b[39;49m\u001b[33;43mlogprobs\u001b[39;49m\u001b[33;43m\"\u001b[39;49m\u001b[43m:\u001b[49m\u001b[43m \u001b[49m\u001b[43mlogprobs\u001b[49m\u001b[43m,\u001b[49m\n\u001b[32m    941\u001b[39m \u001b[43m                \u001b[49m\u001b[33;43m\"\u001b[39;49m\u001b[33;43mmax_completion_tokens\u001b[39;49m\u001b[33;43m\"\u001b[39;49m\u001b[43m:\u001b[49m\u001b[43m \u001b[49m\u001b[43mmax_completion_tokens\u001b[49m\u001b[43m,\u001b[49m\n\u001b[32m    942\u001b[39m \u001b[43m                \u001b[49m\u001b[33;43m\"\u001b[39;49m\u001b[33;43mmax_tokens\u001b[39;49m\u001b[33;43m\"\u001b[39;49m\u001b[43m:\u001b[49m\u001b[43m \u001b[49m\u001b[43mmax_tokens\u001b[49m\u001b[43m,\u001b[49m\n\u001b[32m    943\u001b[39m \u001b[43m                \u001b[49m\u001b[33;43m\"\u001b[39;49m\u001b[33;43mmetadata\u001b[39;49m\u001b[33;43m\"\u001b[39;49m\u001b[43m:\u001b[49m\u001b[43m \u001b[49m\u001b[43mmetadata\u001b[49m\u001b[43m,\u001b[49m\n\u001b[32m    944\u001b[39m \u001b[43m                \u001b[49m\u001b[33;43m\"\u001b[39;49m\u001b[33;43mmodalities\u001b[39;49m\u001b[33;43m\"\u001b[39;49m\u001b[43m:\u001b[49m\u001b[43m \u001b[49m\u001b[43mmodalities\u001b[49m\u001b[43m,\u001b[49m\n\u001b[32m    945\u001b[39m \u001b[43m                \u001b[49m\u001b[33;43m\"\u001b[39;49m\u001b[33;43mn\u001b[39;49m\u001b[33;43m\"\u001b[39;49m\u001b[43m:\u001b[49m\u001b[43m \u001b[49m\u001b[43mn\u001b[49m\u001b[43m,\u001b[49m\n\u001b[32m    946\u001b[39m \u001b[43m                \u001b[49m\u001b[33;43m\"\u001b[39;49m\u001b[33;43mparallel_tool_calls\u001b[39;49m\u001b[33;43m\"\u001b[39;49m\u001b[43m:\u001b[49m\u001b[43m \u001b[49m\u001b[43mparallel_tool_calls\u001b[49m\u001b[43m,\u001b[49m\n\u001b[32m    947\u001b[39m \u001b[43m                \u001b[49m\u001b[33;43m\"\u001b[39;49m\u001b[33;43mprediction\u001b[39;49m\u001b[33;43m\"\u001b[39;49m\u001b[43m:\u001b[49m\u001b[43m \u001b[49m\u001b[43mprediction\u001b[49m\u001b[43m,\u001b[49m\n\u001b[32m    948\u001b[39m \u001b[43m                \u001b[49m\u001b[33;43m\"\u001b[39;49m\u001b[33;43mpresence_penalty\u001b[39;49m\u001b[33;43m\"\u001b[39;49m\u001b[43m:\u001b[49m\u001b[43m \u001b[49m\u001b[43mpresence_penalty\u001b[49m\u001b[43m,\u001b[49m\n\u001b[32m    949\u001b[39m \u001b[43m                \u001b[49m\u001b[33;43m\"\u001b[39;49m\u001b[33;43mreasoning_effort\u001b[39;49m\u001b[33;43m\"\u001b[39;49m\u001b[43m:\u001b[49m\u001b[43m \u001b[49m\u001b[43mreasoning_effort\u001b[49m\u001b[43m,\u001b[49m\n\u001b[32m    950\u001b[39m \u001b[43m                \u001b[49m\u001b[33;43m\"\u001b[39;49m\u001b[33;43mresponse_format\u001b[39;49m\u001b[33;43m\"\u001b[39;49m\u001b[43m:\u001b[49m\u001b[43m \u001b[49m\u001b[43mresponse_format\u001b[49m\u001b[43m,\u001b[49m\n\u001b[32m    951\u001b[39m \u001b[43m                \u001b[49m\u001b[33;43m\"\u001b[39;49m\u001b[33;43mseed\u001b[39;49m\u001b[33;43m\"\u001b[39;49m\u001b[43m:\u001b[49m\u001b[43m \u001b[49m\u001b[43mseed\u001b[49m\u001b[43m,\u001b[49m\n\u001b[32m    952\u001b[39m \u001b[43m                \u001b[49m\u001b[33;43m\"\u001b[39;49m\u001b[33;43mservice_tier\u001b[39;49m\u001b[33;43m\"\u001b[39;49m\u001b[43m:\u001b[49m\u001b[43m \u001b[49m\u001b[43mservice_tier\u001b[49m\u001b[43m,\u001b[49m\n\u001b[32m    953\u001b[39m \u001b[43m                \u001b[49m\u001b[33;43m\"\u001b[39;49m\u001b[33;43mstop\u001b[39;49m\u001b[33;43m\"\u001b[39;49m\u001b[43m:\u001b[49m\u001b[43m \u001b[49m\u001b[43mstop\u001b[49m\u001b[43m,\u001b[49m\n\u001b[32m    954\u001b[39m \u001b[43m                \u001b[49m\u001b[33;43m\"\u001b[39;49m\u001b[33;43mstore\u001b[39;49m\u001b[33;43m\"\u001b[39;49m\u001b[43m:\u001b[49m\u001b[43m \u001b[49m\u001b[43mstore\u001b[49m\u001b[43m,\u001b[49m\n\u001b[32m    955\u001b[39m \u001b[43m                \u001b[49m\u001b[33;43m\"\u001b[39;49m\u001b[33;43mstream\u001b[39;49m\u001b[33;43m\"\u001b[39;49m\u001b[43m:\u001b[49m\u001b[43m \u001b[49m\u001b[43mstream\u001b[49m\u001b[43m,\u001b[49m\n\u001b[32m    956\u001b[39m \u001b[43m                \u001b[49m\u001b[33;43m\"\u001b[39;49m\u001b[33;43mstream_options\u001b[39;49m\u001b[33;43m\"\u001b[39;49m\u001b[43m:\u001b[49m\u001b[43m \u001b[49m\u001b[43mstream_options\u001b[49m\u001b[43m,\u001b[49m\n\u001b[32m    957\u001b[39m \u001b[43m                \u001b[49m\u001b[33;43m\"\u001b[39;49m\u001b[33;43mtemperature\u001b[39;49m\u001b[33;43m\"\u001b[39;49m\u001b[43m:\u001b[49m\u001b[43m \u001b[49m\u001b[43mtemperature\u001b[49m\u001b[43m,\u001b[49m\n\u001b[32m    958\u001b[39m \u001b[43m                \u001b[49m\u001b[33;43m\"\u001b[39;49m\u001b[33;43mtool_choice\u001b[39;49m\u001b[33;43m\"\u001b[39;49m\u001b[43m:\u001b[49m\u001b[43m \u001b[49m\u001b[43mtool_choice\u001b[49m\u001b[43m,\u001b[49m\n\u001b[32m    959\u001b[39m \u001b[43m                \u001b[49m\u001b[33;43m\"\u001b[39;49m\u001b[33;43mtools\u001b[39;49m\u001b[33;43m\"\u001b[39;49m\u001b[43m:\u001b[49m\u001b[43m \u001b[49m\u001b[43mtools\u001b[49m\u001b[43m,\u001b[49m\n\u001b[32m    960\u001b[39m \u001b[43m                \u001b[49m\u001b[33;43m\"\u001b[39;49m\u001b[33;43mtop_logprobs\u001b[39;49m\u001b[33;43m\"\u001b[39;49m\u001b[43m:\u001b[49m\u001b[43m \u001b[49m\u001b[43mtop_logprobs\u001b[49m\u001b[43m,\u001b[49m\n\u001b[32m    961\u001b[39m \u001b[43m                \u001b[49m\u001b[33;43m\"\u001b[39;49m\u001b[33;43mtop_p\u001b[39;49m\u001b[33;43m\"\u001b[39;49m\u001b[43m:\u001b[49m\u001b[43m \u001b[49m\u001b[43mtop_p\u001b[49m\u001b[43m,\u001b[49m\n\u001b[32m    962\u001b[39m \u001b[43m                \u001b[49m\u001b[33;43m\"\u001b[39;49m\u001b[33;43muser\u001b[39;49m\u001b[33;43m\"\u001b[39;49m\u001b[43m:\u001b[49m\u001b[43m \u001b[49m\u001b[43muser\u001b[49m\u001b[43m,\u001b[49m\n\u001b[32m    963\u001b[39m \u001b[43m                \u001b[49m\u001b[33;43m\"\u001b[39;49m\u001b[33;43mweb_search_options\u001b[39;49m\u001b[33;43m\"\u001b[39;49m\u001b[43m:\u001b[49m\u001b[43m \u001b[49m\u001b[43mweb_search_options\u001b[49m\u001b[43m,\u001b[49m\n\u001b[32m    964\u001b[39m \u001b[43m            \u001b[49m\u001b[43m}\u001b[49m\u001b[43m,\u001b[49m\n\u001b[32m    965\u001b[39m \u001b[43m            \u001b[49m\u001b[43mcompletion_create_params\u001b[49m\u001b[43m.\u001b[49m\u001b[43mCompletionCreateParamsStreaming\u001b[49m\n\u001b[32m    966\u001b[39m \u001b[43m            \u001b[49m\u001b[38;5;28;43;01mif\u001b[39;49;00m\u001b[43m \u001b[49m\u001b[43mstream\u001b[49m\n\u001b[32m    967\u001b[39m \u001b[43m            \u001b[49m\u001b[38;5;28;43;01melse\u001b[39;49;00m\u001b[43m \u001b[49m\u001b[43mcompletion_create_params\u001b[49m\u001b[43m.\u001b[49m\u001b[43mCompletionCreateParamsNonStreaming\u001b[49m\u001b[43m,\u001b[49m\n\u001b[32m    968\u001b[39m \u001b[43m        \u001b[49m\u001b[43m)\u001b[49m\u001b[43m,\u001b[49m\n\u001b[32m    969\u001b[39m \u001b[43m        \u001b[49m\u001b[43moptions\u001b[49m\u001b[43m=\u001b[49m\u001b[43mmake_request_options\u001b[49m\u001b[43m(\u001b[49m\n\u001b[32m    970\u001b[39m \u001b[43m            \u001b[49m\u001b[43mextra_headers\u001b[49m\u001b[43m=\u001b[49m\u001b[43mextra_headers\u001b[49m\u001b[43m,\u001b[49m\u001b[43m \u001b[49m\u001b[43mextra_query\u001b[49m\u001b[43m=\u001b[49m\u001b[43mextra_query\u001b[49m\u001b[43m,\u001b[49m\u001b[43m \u001b[49m\u001b[43mextra_body\u001b[49m\u001b[43m=\u001b[49m\u001b[43mextra_body\u001b[49m\u001b[43m,\u001b[49m\u001b[43m \u001b[49m\u001b[43mtimeout\u001b[49m\u001b[43m=\u001b[49m\u001b[43mtimeout\u001b[49m\n\u001b[32m    971\u001b[39m \u001b[43m        \u001b[49m\u001b[43m)\u001b[49m\u001b[43m,\u001b[49m\n\u001b[32m    972\u001b[39m \u001b[43m        \u001b[49m\u001b[43mcast_to\u001b[49m\u001b[43m=\u001b[49m\u001b[43mChatCompletion\u001b[49m\u001b[43m,\u001b[49m\n\u001b[32m    973\u001b[39m \u001b[43m        \u001b[49m\u001b[43mstream\u001b[49m\u001b[43m=\u001b[49m\u001b[43mstream\u001b[49m\u001b[43m \u001b[49m\u001b[38;5;129;43;01mor\u001b[39;49;00m\u001b[43m \u001b[49m\u001b[38;5;28;43;01mFalse\u001b[39;49;00m\u001b[43m,\u001b[49m\n\u001b[32m    974\u001b[39m \u001b[43m        \u001b[49m\u001b[43mstream_cls\u001b[49m\u001b[43m=\u001b[49m\u001b[43mStream\u001b[49m\u001b[43m[\u001b[49m\u001b[43mChatCompletionChunk\u001b[49m\u001b[43m]\u001b[49m\u001b[43m,\u001b[49m\n\u001b[32m    975\u001b[39m \u001b[43m    \u001b[49m\u001b[43m)\u001b[49m\n",
      "\u001b[36mFile \u001b[39m\u001b[32m/mnt/c/Users/iliya/Repositories/network-effect-hacks/DeveloperScope/.venv/lib/python3.12/site-packages/openai/_base_client.py:1276\u001b[39m, in \u001b[36mSyncAPIClient.post\u001b[39m\u001b[34m(self, path, cast_to, body, options, files, stream, stream_cls)\u001b[39m\n\u001b[32m   1262\u001b[39m \u001b[38;5;28;01mdef\u001b[39;00m\u001b[38;5;250m \u001b[39m\u001b[34mpost\u001b[39m(\n\u001b[32m   1263\u001b[39m     \u001b[38;5;28mself\u001b[39m,\n\u001b[32m   1264\u001b[39m     path: \u001b[38;5;28mstr\u001b[39m,\n\u001b[32m   (...)\u001b[39m\u001b[32m   1271\u001b[39m     stream_cls: \u001b[38;5;28mtype\u001b[39m[_StreamT] | \u001b[38;5;28;01mNone\u001b[39;00m = \u001b[38;5;28;01mNone\u001b[39;00m,\n\u001b[32m   1272\u001b[39m ) -> ResponseT | _StreamT:\n\u001b[32m   1273\u001b[39m     opts = FinalRequestOptions.construct(\n\u001b[32m   1274\u001b[39m         method=\u001b[33m\"\u001b[39m\u001b[33mpost\u001b[39m\u001b[33m\"\u001b[39m, url=path, json_data=body, files=to_httpx_files(files), **options\n\u001b[32m   1275\u001b[39m     )\n\u001b[32m-> \u001b[39m\u001b[32m1276\u001b[39m     \u001b[38;5;28;01mreturn\u001b[39;00m cast(ResponseT, \u001b[38;5;28;43mself\u001b[39;49m\u001b[43m.\u001b[49m\u001b[43mrequest\u001b[49m\u001b[43m(\u001b[49m\u001b[43mcast_to\u001b[49m\u001b[43m,\u001b[49m\u001b[43m \u001b[49m\u001b[43mopts\u001b[49m\u001b[43m,\u001b[49m\u001b[43m \u001b[49m\u001b[43mstream\u001b[49m\u001b[43m=\u001b[49m\u001b[43mstream\u001b[49m\u001b[43m,\u001b[49m\u001b[43m \u001b[49m\u001b[43mstream_cls\u001b[49m\u001b[43m=\u001b[49m\u001b[43mstream_cls\u001b[49m\u001b[43m)\u001b[49m)\n",
      "\u001b[36mFile \u001b[39m\u001b[32m/mnt/c/Users/iliya/Repositories/network-effect-hacks/DeveloperScope/.venv/lib/python3.12/site-packages/openai/_base_client.py:949\u001b[39m, in \u001b[36mSyncAPIClient.request\u001b[39m\u001b[34m(self, cast_to, options, remaining_retries, stream, stream_cls)\u001b[39m\n\u001b[32m    946\u001b[39m \u001b[38;5;28;01melse\u001b[39;00m:\n\u001b[32m    947\u001b[39m     retries_taken = \u001b[32m0\u001b[39m\n\u001b[32m--> \u001b[39m\u001b[32m949\u001b[39m \u001b[38;5;28;01mreturn\u001b[39;00m \u001b[38;5;28;43mself\u001b[39;49m\u001b[43m.\u001b[49m\u001b[43m_request\u001b[49m\u001b[43m(\u001b[49m\n\u001b[32m    950\u001b[39m \u001b[43m    \u001b[49m\u001b[43mcast_to\u001b[49m\u001b[43m=\u001b[49m\u001b[43mcast_to\u001b[49m\u001b[43m,\u001b[49m\n\u001b[32m    951\u001b[39m \u001b[43m    \u001b[49m\u001b[43moptions\u001b[49m\u001b[43m=\u001b[49m\u001b[43moptions\u001b[49m\u001b[43m,\u001b[49m\n\u001b[32m    952\u001b[39m \u001b[43m    \u001b[49m\u001b[43mstream\u001b[49m\u001b[43m=\u001b[49m\u001b[43mstream\u001b[49m\u001b[43m,\u001b[49m\n\u001b[32m    953\u001b[39m \u001b[43m    \u001b[49m\u001b[43mstream_cls\u001b[49m\u001b[43m=\u001b[49m\u001b[43mstream_cls\u001b[49m\u001b[43m,\u001b[49m\n\u001b[32m    954\u001b[39m \u001b[43m    \u001b[49m\u001b[43mretries_taken\u001b[49m\u001b[43m=\u001b[49m\u001b[43mretries_taken\u001b[49m\u001b[43m,\u001b[49m\n\u001b[32m    955\u001b[39m \u001b[43m\u001b[49m\u001b[43m)\u001b[49m\n",
      "\u001b[36mFile \u001b[39m\u001b[32m/mnt/c/Users/iliya/Repositories/network-effect-hacks/DeveloperScope/.venv/lib/python3.12/site-packages/openai/_base_client.py:1057\u001b[39m, in \u001b[36mSyncAPIClient._request\u001b[39m\u001b[34m(self, cast_to, options, retries_taken, stream, stream_cls)\u001b[39m\n\u001b[32m   1054\u001b[39m         err.response.read()\n\u001b[32m   1056\u001b[39m     log.debug(\u001b[33m\"\u001b[39m\u001b[33mRe-raising status error\u001b[39m\u001b[33m\"\u001b[39m)\n\u001b[32m-> \u001b[39m\u001b[32m1057\u001b[39m     \u001b[38;5;28;01mraise\u001b[39;00m \u001b[38;5;28mself\u001b[39m._make_status_error_from_response(err.response) \u001b[38;5;28;01mfrom\u001b[39;00m\u001b[38;5;250m \u001b[39m\u001b[38;5;28;01mNone\u001b[39;00m\n\u001b[32m   1059\u001b[39m \u001b[38;5;28;01mreturn\u001b[39;00m \u001b[38;5;28mself\u001b[39m._process_response(\n\u001b[32m   1060\u001b[39m     cast_to=cast_to,\n\u001b[32m   1061\u001b[39m     options=options,\n\u001b[32m   (...)\u001b[39m\u001b[32m   1065\u001b[39m     retries_taken=retries_taken,\n\u001b[32m   1066\u001b[39m )\n",
      "\u001b[31mBadRequestError\u001b[39m: Error code: 400 - {'error': {'message': \"Missing required parameter: 'tools[0].function'.\", 'type': 'invalid_request_error', 'param': 'tools[0].function', 'code': 'missing_required_parameter'}}"
     ]
    }
   ],
   "source": [
    "from report_generator import analyze_commit\n",
    "\n",
    "\n",
    "answer = analyze_commit(\n",
    "    author=extract_username(merge_commit.author.email),\n",
    "    commit_hash=merge_commit.hexsha)\n",
    "answer "
   ]
  },
  {
   "cell_type": "code",
   "execution_count": 77,
   "metadata": {},
   "outputs": [
    {
     "data": {
      "text/plain": [
       "['.gitignore',\n",
       " 'manage.py',\n",
       " 'requirements.txt',\n",
       " 'accesslist/__init__.py',\n",
       " 'accesslist/admin.py',\n",
       " 'accesslist/apps.py',\n",
       " 'accesslist/auth.py',\n",
       " 'accesslist/forms.py',\n",
       " 'accesslist/models.py',\n",
       " 'accesslist/signals.py',\n",
       " 'accesslist/tests.py',\n",
       " 'accesslist/urls.py',\n",
       " 'accesslist/views.py',\n",
       " 'acladmin/__init__.py',\n",
       " 'acladmin/asgi.py',\n",
       " 'acladmin/celery.py',\n",
       " 'acladmin/context_processors.py',\n",
       " 'acladmin/settings.py',\n",
       " 'acladmin/tasks.py',\n",
       " 'acladmin/urls.py',\n",
       " 'acladmin/views.py',\n",
       " 'acladmin/wsgi.py',\n",
       " 'acladmin/yasg.py',\n",
       " 'ownerlist/__init__.py',\n",
       " 'ownerlist/admin.py',\n",
       " 'ownerlist/apps.py',\n",
       " 'ownerlist/docx_hotfix.py',\n",
       " 'ownerlist/forms.py',\n",
       " 'ownerlist/models.py',\n",
       " 'ownerlist/tests.py',\n",
       " 'ownerlist/urls.py',\n",
       " 'ownerlist/utils.py',\n",
       " 'ownerlist/views.py',\n",
       " 'panel/__init__.py',\n",
       " 'panel/admin.py',\n",
       " 'panel/apps.py',\n",
       " 'panel/forms.py',\n",
       " 'panel/models.py',\n",
       " 'panel/tests.py',\n",
       " 'panel/urls.py',\n",
       " 'panel/views.py',\n",
       " 'teams/__init__.py',\n",
       " 'teams/admin.py',\n",
       " 'teams/apps.py',\n",
       " 'teams/models.py',\n",
       " 'teams/tests.py',\n",
       " 'teams/urls.py',\n",
       " 'teams/views.py',\n",
       " 'templates/403.html',\n",
       " 'templates/404.html',\n",
       " 'templates/500.html',\n",
       " 'templates/ACL.docx',\n",
       " 'templates/base.html',\n",
       " 'tests/__init__.py',\n",
       " 'accesslist/management/__init.py',\n",
       " 'accesslist/migrations/0001_initial.py',\n",
       " 'accesslist/migrations/0002_auto_20210301_1901.py',\n",
       " 'accesslist/migrations/0003_auto_20210301_2253.py',\n",
       " 'accesslist/migrations/0004_acl_created.py',\n",
       " 'accesslist/migrations/0005_auto_20210302_1927.py',\n",
       " 'accesslist/migrations/0006_auto_20210302_1929.py',\n",
       " 'accesslist/migrations/0007_auto_20210303_2334.py',\n",
       " 'accesslist/migrations/0008_auto_20210305_1259.py',\n",
       " 'accesslist/migrations/0009_acl_status.py',\n",
       " 'accesslist/migrations/0010_auto_20210309_1411.py',\n",
       " 'accesslist/migrations/0011_acl_project.py',\n",
       " 'accesslist/migrations/0012_acl_taskid.py',\n",
       " 'accesslist/migrations/0013_auto_20210415_1301.py',\n",
       " 'accesslist/migrations/0014_auto_20210603_1925.py',\n",
       " 'accesslist/migrations/0015_auto_20210622_1333.py',\n",
       " 'accesslist/migrations/0016_auto_20210622_1919.py',\n",
       " 'accesslist/migrations/0017_acl_token.py',\n",
       " 'accesslist/migrations/0018_auto_20210630_1545.py',\n",
       " 'accesslist/migrations/0019_acl_activity.py',\n",
       " 'accesslist/migrations/0020_auto_20210726_1812.py',\n",
       " 'accesslist/migrations/0021_auto_20211013_1604.py',\n",
       " 'accesslist/migrations/0022_auto_20211102_1244.py',\n",
       " 'accesslist/migrations/0023_auto_20211129_2107.py',\n",
       " 'accesslist/migrations/0024_block_department.py',\n",
       " 'accesslist/migrations/0025_auto_20220127_1442.py',\n",
       " 'accesslist/migrations/0026_auto_20220127_1522.py',\n",
       " 'accesslist/migrations/0027_auto_20220127_1843.py',\n",
       " 'accesslist/migrations/0028_auto_20220127_1934.py',\n",
       " 'accesslist/migrations/0029_auto_20220127_2207.py',\n",
       " 'accesslist/migrations/0030_auto_20220130_1637.py',\n",
       " 'accesslist/migrations/0031_auto_20220131_1138.py',\n",
       " 'accesslist/migrations/0032_acl_team.py',\n",
       " 'accesslist/migrations/0033_auto_20220214_1606.py',\n",
       " 'accesslist/migrations/0034_auto_20220804_0954.py',\n",
       " 'accesslist/migrations/0035_auto_20221109_1618.py',\n",
       " 'accesslist/migrations/0036_auto_20221109_1641.py',\n",
       " 'accesslist/migrations/0037_aclgitlabstore.py',\n",
       " 'accesslist/migrations/0038_acl_git_filename.py',\n",
       " 'accesslist/migrations/0039_auto_20231115_2045.py',\n",
       " 'accesslist/migrations/0040_auto_20231204_1121.py',\n",
       " 'accesslist/migrations/0041_auto_20241212_1633.py',\n",
       " 'accesslist/migrations/__init__.py',\n",
       " 'accesslist/templates/acl_approve.html',\n",
       " 'accesslist/templates/acl_base.html',\n",
       " 'accesslist/templates/acl_create_info.html',\n",
       " 'accesslist/templates/acl_demo.html',\n",
       " 'accesslist/templates/acl_dmz_resources.html',\n",
       " 'accesslist/templates/acl_external_resources.html',\n",
       " 'accesslist/templates/acl_history.html',\n",
       " 'accesslist/templates/acl_instruction.html',\n",
       " 'accesslist/templates/acl_internal_resources.html',\n",
       " 'accesslist/templates/acl_overview.html',\n",
       " 'accesslist/templates/acl_pending.html',\n",
       " 'accesslist/templates/acl_test.html',\n",
       " 'accesslist/templates/acl_traffic.html',\n",
       " 'accesslist/templates/status_change_letter.html',\n",
       " 'accesslist/templatetags/__init__.py',\n",
       " 'accesslist/templatetags/empty_strings.py',\n",
       " 'accesslist/templatetags/get_index.py',\n",
       " 'accesslist/templatetags/ip_check.py',\n",
       " 'accesslist/templatetags/random_numbers.py',\n",
       " 'accesslist/utils/__init__.py',\n",
       " 'accesslist/utils/gitlab.py',\n",
       " 'ownerlist/migrations/0001_initial.py',\n",
       " 'ownerlist/migrations/0002_auto_20210210_1905.py',\n",
       " 'ownerlist/migrations/0003_auto_20210210_1913.py',\n",
       " 'ownerlist/migrations/0004_auto_20210210_1921.py',\n",
       " 'ownerlist/migrations/0005_auto_20210210_2002.py',\n",
       " 'ownerlist/migrations/0006_auto_20210210_2009.py',\n",
       " 'ownerlist/migrations/0007_auto_20210210_2101.py',\n",
       " 'ownerlist/migrations/0008_auto_20210210_2119.py',\n",
       " 'ownerlist/migrations/0009_auto_20210210_2208.py',\n",
       " 'ownerlist/migrations/0010_iplist_ipv4_str.py',\n",
       " 'ownerlist/migrations/0011_historycall.py',\n",
       " 'ownerlist/migrations/0012_auto_20210228_1653.py',\n",
       " 'ownerlist/migrations/0013_auto_20210308_2259.py',\n",
       " 'ownerlist/migrations/0014_owners_department.py',\n",
       " 'ownerlist/migrations/0015_auto_20210407_1853.py',\n",
       " 'ownerlist/migrations/0016_auto_20210615_1657.py',\n",
       " 'ownerlist/migrations/0017_auto_20210804_1526.py',\n",
       " 'ownerlist/migrations/0018_auto_20221109_1618.py',\n",
       " 'ownerlist/migrations/__init__.py',\n",
       " 'ownerlist/templates/index.html',\n",
       " 'ownerlist/templates/iptable.html',\n",
       " 'ownerlist/templates/search.html',\n",
       " 'ownerlist/templates/vpn.html',\n",
       " 'panel/migrations/__init__.py',\n",
       " 'panel/templates/panel.html',\n",
       " 'static/css/bootstrap.css',\n",
       " 'static/css/bootstrap.css.map',\n",
       " 'static/css/pace-theme-default.min.css',\n",
       " 'static/css/select2.min.css',\n",
       " 'static/css/style.css',\n",
       " 'static/img/123123123.png',\n",
       " 'static/img/ACL.PNG',\n",
       " 'static/img/approve.jpg',\n",
       " 'static/img/bottle.svg',\n",
       " 'static/img/check.svg',\n",
       " 'static/img/checkbox.svg',\n",
       " 'static/img/demo.png',\n",
       " 'static/img/favicon.ico',\n",
       " 'static/img/ip.png',\n",
       " 'static/img/login.png',\n",
       " 'static/img/network.png',\n",
       " 'static/img/search.svg',\n",
       " 'static/img/user-solid.svg',\n",
       " 'static/img/user.png',\n",
       " 'static/img/user128.png',\n",
       " 'static/img/user64.png',\n",
       " 'static/js/bootstrap.min.js',\n",
       " 'static/js/bootstrap.min.js.map',\n",
       " 'static/js/jquery-3.4.1.js',\n",
       " 'static/js/main.js',\n",
       " 'static/js/pace.js',\n",
       " 'static/js/select2.min.js',\n",
       " 'teams/migrations/0001_initial.py',\n",
       " 'teams/migrations/0002_auto_20220214_1604.py',\n",
       " 'teams/migrations/0003_auto_20220215_1322.py',\n",
       " 'teams/migrations/0004_auto_20221109_1618.py',\n",
       " 'teams/migrations/0005_team_gitlab_group_url.py',\n",
       " 'teams/migrations/__init__.py',\n",
       " 'teams/templates/teams.html',\n",
       " 'tests/mocks/__init__.py',\n",
       " 'tests/mocks/mock_omni_check_status.py',\n",
       " 'tests/mocks/mock_requests.py',\n",
       " 'tests/mocks/mock_send_omnitracker.py',\n",
       " 'accesslist/management/commands/__init__.py',\n",
       " 'accesslist/management/commands/split_acl_data.py',\n",
       " 'accesslist/management/commands/transform_acl_info.py',\n",
       " 'accesslist/management/commands/transform_dmz.py',\n",
       " 'accesslist/management/commands/transform_external.py',\n",
       " 'accesslist/management/commands/transform_internal.py',\n",
       " 'accesslist/management/commands/transform_trafic.py',\n",
       " 'ownerlist/templates/registration/logged_out.html',\n",
       " 'ownerlist/templates/registration/login.html']"
      ]
     },
     "execution_count": 77,
     "metadata": {},
     "output_type": "execute_result"
    }
   ],
   "source": [
    "from developerscope.analyzer import get_current_state_paths\n",
    "\n",
    "get_current_state_paths(git_repo.commit(commit))"
   ]
  },
  {
   "cell_type": "code",
   "execution_count": 78,
   "metadata": {},
   "outputs": [],
   "source": [
    "from developerscope.analyzer import get_difference, get_prompt_for_merge_commit\n"
   ]
  },
  {
   "cell_type": "code",
   "execution_count": 11,
   "metadata": {},
   "outputs": [],
   "source": [
    "current_folder_name = current_repo_path.name\n",
    "output_base = current_repo_path / \"current_repo2\"\n",
    "\n",
    "for author, merge_requests in merge_commits_map.items():\n",
    "    for merge_request in merge_requests:\n",
    "        merge_commit = git_repo.commit(merge_request)\n",
    "\n",
    "        # Prepare directory path\n",
    "        output_dir = output_base / author\n",
    "        output_dir.mkdir(parents=True, exist_ok=True)\n",
    "\n",
    "        # Prepare file path\n",
    "        output_file = output_dir / f\"{merge_commit.hexsha}.txt\"\n",
    "\n",
    "        # Write to file\n",
    "        with open(output_file, \"w\", encoding=\"utf-8\") as f:\n",
    "            diff = get_prompt_for_merge_commit(merge_commit)\n",
    "            f.write(diff)\n"
   ]
  },
  {
   "cell_type": "code",
   "execution_count": 79,
   "metadata": {},
   "outputs": [],
   "source": [
    "SYSTEM_PROMPT = \"\"\"\n",
    "You are a secure‑code reviewer.\n",
    "\n",
    "You are given the difference from a Git merge request. Your job is to:\n",
    "1. Identify the **type** of this merge request. Choose exactly one from:\n",
    "   - Feature\n",
    "   - Bug-fix\n",
    "   - Refactor\n",
    "   - Performance\n",
    "   - Security-patch\n",
    "   - Docs / comments\n",
    "   - Chore / dependency bump\n",
    "\n",
    "2. Point out any **potential issues** in the code. These can include:\n",
    "   - Security risks\n",
    "   - Logic bugs\n",
    "   - Bad practices\n",
    "   - Incomplete migration\n",
    "   - Data loss risk\n",
    "   - Fragile assumptions\n",
    "   - Lack of input validation\n",
    "   - Anything that might be worth double-checking\n",
    "\n",
    "3. If you think the merge request cannot be fully understood from the provided diff, call get_file_contents function with necessary file paths\"\"\""
   ]
  },
  {
   "cell_type": "code",
   "execution_count": 80,
   "metadata": {},
   "outputs": [],
   "source": [
    "from developerscope.analyzer import get_current_state\n",
    "\n",
    "def call_function(name, args, commit: git.Commit):\n",
    "    if name == \"get_file_contents\":\n",
    "        return get_current_state(commit, args['files'])\n"
   ]
  },
  {
   "cell_type": "code",
   "execution_count": 81,
   "metadata": {},
   "outputs": [],
   "source": [
    "import json\n",
    "\n",
    "\n",
    "with open('schema.json') as file:\n",
    "    schemaMergeRequest = json.load(file)"
   ]
  },
  {
   "cell_type": "code",
   "execution_count": 82,
   "metadata": {},
   "outputs": [],
   "source": [
    "from openai import OpenAI\n",
    "client = OpenAI()"
   ]
  },
  {
   "cell_type": "code",
   "execution_count": null,
   "metadata": {},
   "outputs": [],
   "source": [
    "def tool_get_file_contents(commit: git.Commit):\n",
    "    return {\n",
    "    \"type\": \"function\",\n",
    "    \"name\": \"get_file_contents\",\n",
    "    \"description\": \"Function which accepts a list of files in a git repo and produces a their content\",\n",
    "    \"strict\": True,\n",
    "    \"parameters\": {\n",
    "        \"type\": \"object\",\n",
    "        \"required\": [\n",
    "            \"files\"\n",
    "        ],\n",
    "        \"properties\": {\n",
    "            \"files\": {\n",
    "                \"type\": \"array\",\n",
    "                \"description\": \"List of specific files to read from the git repository\",\n",
    "                \"items\": {\n",
    "                    \"type\": \"string\",\n",
    "                    \"enum\": get_current_state_paths(merge_commit),\n",
    "                    \"description\": \"File name that exists in the git repository\"\n",
    "                }\n",
    "            }\n",
    "        },\n",
    "        \"additionalProperties\": False\n",
    "    }\n",
    "}"
   ]
  },
  {
   "cell_type": "code",
   "execution_count": 83,
   "metadata": {},
   "outputs": [],
   "source": [
    "tools = []"
   ]
  },
  {
   "cell_type": "code",
   "execution_count": 85,
   "metadata": {},
   "outputs": [],
   "source": [
    "input_messages = [\n",
    "    {\n",
    "      \"role\": \"system\",\n",
    "      \"content\": SYSTEM_PROMPT\n",
    "    },\n",
    "    {\n",
    "      \"role\": \"user\",\n",
    "      \"content\": get_prompt_for_merge_commit(merge_commit) \n",
    "    }\n",
    "]"
   ]
  },
  {
   "cell_type": "code",
   "execution_count": 86,
   "metadata": {},
   "outputs": [],
   "source": [
    "response = client.responses.create(\n",
    "  model=\"gpt-4.1\",\n",
    "  input=input_messages,\n",
    "  text={\n",
    "    \"format\": schemaMergeRequest\n",
    "  },\n",
    "  temperature=0.7,\n",
    "  tools=tools\n",
    ")\n",
    "\n",
    "# response.output[0].content[0].text\n",
    "# response.output"
   ]
  },
  {
   "cell_type": "code",
   "execution_count": 88,
   "metadata": {},
   "outputs": [],
   "source": [
    "with open('out.json', 'w') as file:\n",
    "    file.write(response.output[0].content[0].text)\n",
    "# print()"
   ]
  },
  {
   "cell_type": "code",
   "execution_count": 87,
   "metadata": {},
   "outputs": [],
   "source": [
    "review = response.output[0].content[0].text"
   ]
  },
  {
   "cell_type": "code",
   "execution_count": 89,
   "metadata": {},
   "outputs": [
    {
     "name": "stdout",
     "output_type": "stream",
     "text": [
      "message\n"
     ]
    }
   ],
   "source": [
    "import json\n",
    "\n",
    "function_called = False\n",
    "\n",
    "for tool_call in response.output:\n",
    "    print(tool_call.type)\n",
    "    if tool_call.type != \"function_call\":\n",
    "        continue\n",
    "    function_called  = True\n",
    "    name = tool_call.name\n",
    "    args = json.loads(tool_call.arguments)\n",
    "    result = call_function(name, args, merge_commit)\n",
    "    input_messages.append({                               \n",
    "        \"type\": \"function_call_output\",\n",
    "        \"call_id\": tool_call.call_id,\n",
    "        \"output\": str(result)\n",
    "    })"
   ]
  },
  {
   "cell_type": "code",
   "execution_count": 58,
   "metadata": {},
   "outputs": [],
   "source": [
    "if function_called:\n",
    "  response2 = client.responses.create(\n",
    "      model=\"gpt-4.1\",\n",
    "      input=input_messages,\n",
    "      text={\n",
    "        \"format\": schemaMergeRequest\n",
    "      },\n",
    "      temperature=0.7,\n",
    "      tools=tools\n",
    "  )"
   ]
  },
  {
   "cell_type": "markdown",
   "metadata": {},
   "source": [
    "REVIEW"
   ]
  },
  {
   "cell_type": "code",
   "execution_count": 60,
   "metadata": {},
   "outputs": [],
   "source": [
    "SYSTEM_PROMPT_REVIEW = \"\"\"\n",
    "You are a secure‑code defender tasked with reviewing **another analysis** of a Git merge request.\n",
    "\n",
    "1. **First**, decide whether the existing analysis alone gives you enough context. If you need to inspect actual code to validate or refute any point, immediately call the `get_file_contents` function with the specific file paths you require.  \n",
    "2. **Next**, ingest the provided analysis (issues, categories, reasoning, effort estimates).  \n",
    "3. **Finally**, **filter** that analysis to **only** include:\n",
    "   - Issues with severity **HIGH** or **CRITICAL**  \n",
    "   - Any hidden reasoning that reveals a blocker or urgent risk  \n",
    "   - An updated effortEstimate if critical concerns change the scope  \n",
    "\n",
    "Report your result using the predefined `MergeRequestAnalysis` schema, unchanged in structure—just pruning out everything below HIGH severity.\n",
    "\"\"\"\n"
   ]
  },
  {
   "cell_type": "code",
   "execution_count": 62,
   "metadata": {},
   "outputs": [],
   "source": [
    "input_messages = [\n",
    "    {\n",
    "      \"role\": \"system\",\n",
    "      \"content\": SYSTEM_PROMPT_REVIEW\n",
    "    },\n",
    "    {\n",
    "      \"role\": \"user\",\n",
    "      \"content\": review \n",
    "    }\n",
    "]"
   ]
  },
  {
   "cell_type": "code",
   "execution_count": 63,
   "metadata": {},
   "outputs": [],
   "source": [
    "response = client.responses.create(\n",
    "  model=\"gpt-4.1\",\n",
    "  input=input_messages,\n",
    "  text={\n",
    "    \"format\": schemaMergeRequest\n",
    "  },\n",
    "  temperature=0.7,\n",
    "  tools=tools\n",
    ")"
   ]
  },
  {
   "cell_type": "code",
   "execution_count": 64,
   "metadata": {},
   "outputs": [
    {
     "data": {
      "text/plain": [
       "Response(id='resp_680211b6e59c8191871a9e54c759bd670a29cf0ee01c5818', created_at=1744966070.0, error=None, incomplete_details=None, instructions=None, metadata={}, model='gpt-4.1-2025-04-14', object='response', output=[ResponseOutputMessage(id='msg_680211b86ca88191b279ab8249758f4d0a29cf0ee01c5818', content=[ResponseOutputText(annotations=[], text='{\"hiddenReasoning\":\"The merge commit introduces serious security risks, including a critical SQL injection vulnerability and insecure credential handling. The authorization implementation deviates from standards, and sensitive data is exposed in plaintext without secrets management. These are blockers that must be addressed before merging.\",\"type\":\"Feature\",\"issues\":[{\"filePath\":\"api.py\",\"line\":\"23-27\",\"issue\":\"Possible SQL injection risk: user_input is directly embedded into the SQL query string. If the backend does not properly sanitize inputs, this could lead to arbitrary code execution or data compromise.\",\"level\":\"CRITICAL\"},{\"filePath\":\"api.py\",\"line\":\"23-27\",\"issue\":\"Credentials (username, password) are directly embedded in the Authorization header without proper encoding (should be base64 for HTTP Basic Auth). This could lead to authentication and security issues if the server expects standard HTTP Basic Auth.\",\"level\":\"HIGH\"},{\"filePath\":\"api.py\",\"line\":\"23-27\",\"issue\":\"Sensitive credentials are being handled in plaintext within the code. If committed to version control, this becomes a significant risk unless handled securely by secrets management.\",\"level\":\"HIGH\"}],\"effortEstimate\":\"Large\"}', type='output_text')], role='assistant', status='completed', type='message')], parallel_tool_calls=True, temperature=0.7, tool_choice='auto', tools=[FunctionTool(name='get_file_contents', parameters={'type': 'object', 'required': ['files'], 'properties': {'files': {'type': 'array', 'description': 'List of specific files to read from the git repository', 'items': {'type': 'string', 'enum': ['README.md', 'admin.html', 'api.py', 'calc_add.py', 'calc_div.py', 'calc_fact.py', 'calc_mod.py', 'calc_mul.py', 'calc_pow.py', 'calc_sub.py', 'index.html', 'list_flatten.py', 'string_lower.py', 'string_reverse.py', 'string_upper.py', 'unsafe_eval.py'], 'description': 'File name that exists in the git repository'}}}, 'additionalProperties': False}, strict=True, type='function', description='Function which accepts a list of files in a git repo and produces a their content')], top_p=1.0, max_output_tokens=None, previous_response_id=None, reasoning=Reasoning(effort=None, generate_summary=None, summary=None), service_tier='default', status='completed', text=ResponseTextConfig(format=ResponseFormatTextJSONSchemaConfig(name='MergeRequestAnalysis', schema_={'type': 'object', 'properties': {'hiddenReasoning': {'type': 'string', 'description': 'The reasoning behind the merge request which is not visible on the surface.'}, 'type': {'type': 'string', 'enum': ['Feature', 'Bug‑fix', 'Refactor', 'Performance', 'Security‐patch', 'Docs / comments', 'Chore / dependency bump'], 'description': 'The type of the merge request.'}, 'issues': {'type': 'array', 'description': 'A list of potential issues identified in the merge request.', 'items': {'type': 'object', 'properties': {'filePath': {'type': 'string', 'description': 'The file path where the issue was found.'}, 'line': {'type': 'string', 'description': 'The line number (or range) where the issue is located.'}, 'issue': {'type': 'string', 'description': 'Description of the potential issue.'}, 'level': {'type': 'string', 'enum': ['LOW', 'MEDIUM', 'HIGH', 'CRITICAL'], 'description': 'The severity level of the issue.'}}, 'required': ['filePath', 'line', 'issue', 'level'], 'additionalProperties': False}}, 'effortEstimate': {'type': 'string', 'enum': ['Trivial', 'Minor', 'Moderate', 'Large', 'Major'], 'description': 'An estimate of the effort required to address the merge request. 1 – trivial (1-5 mins, docs, small change). 2 – minor (5-15 mins, <10 LOC). 3 – moderate (simple logic, small feature, 10–50 LOC). Large (many files, potential side effects). Major project or architectural review needed'}}, 'required': ['hiddenReasoning', 'type', 'issues', 'effortEstimate'], 'additionalProperties': False}, type='json_schema', description=None, strict=True)), truncation='disabled', usage=ResponseUsage(input_tokens=1001, input_tokens_details=InputTokensDetails(cached_tokens=0), output_tokens=237, output_tokens_details=OutputTokensDetails(reasoning_tokens=0), total_tokens=1238), user=None, store=True)"
      ]
     },
     "execution_count": 64,
     "metadata": {},
     "output_type": "execute_result"
    }
   ],
   "source": [
    "response"
   ]
  },
  {
   "cell_type": "code",
   "execution_count": 66,
   "metadata": {},
   "outputs": [
    {
     "data": {
      "text/plain": [
       "'{\"hiddenReasoning\":\"The merge commit introduces serious security risks, including a critical SQL injection vulnerability and insecure credential handling. The authorization implementation deviates from standards, and sensitive data is exposed in plaintext without secrets management. These are blockers that must be addressed before merging.\",\"type\":\"Feature\",\"issues\":[{\"filePath\":\"api.py\",\"line\":\"23-27\",\"issue\":\"Possible SQL injection risk: user_input is directly embedded into the SQL query string. If the backend does not properly sanitize inputs, this could lead to arbitrary code execution or data compromise.\",\"level\":\"CRITICAL\"},{\"filePath\":\"api.py\",\"line\":\"23-27\",\"issue\":\"Credentials (username, password) are directly embedded in the Authorization header without proper encoding (should be base64 for HTTP Basic Auth). This could lead to authentication and security issues if the server expects standard HTTP Basic Auth.\",\"level\":\"HIGH\"},{\"filePath\":\"api.py\",\"line\":\"23-27\",\"issue\":\"Sensitive credentials are being handled in plaintext within the code. If committed to version control, this becomes a significant risk unless handled securely by secrets management.\",\"level\":\"HIGH\"}],\"effortEstimate\":\"Large\"}'"
      ]
     },
     "execution_count": 66,
     "metadata": {},
     "output_type": "execute_result"
    }
   ],
   "source": [
    "response.output_text"
   ]
  }
 ],
 "metadata": {
  "kernelspec": {
   "display_name": ".venv",
   "language": "python",
   "name": "python3"
  },
  "language_info": {
   "codemirror_mode": {
    "name": "ipython",
    "version": 3
   },
   "file_extension": ".py",
   "mimetype": "text/x-python",
   "name": "python",
   "nbconvert_exporter": "python",
   "pygments_lexer": "ipython3",
   "version": "3.12.10"
  }
 },
 "nbformat": 4,
 "nbformat_minor": 2
}
